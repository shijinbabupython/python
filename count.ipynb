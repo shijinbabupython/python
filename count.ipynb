{
  "nbformat": 4,
  "nbformat_minor": 0,
  "metadata": {
    "colab": {
      "name": "count.ipynb",
      "provenance": [],
      "authorship_tag": "ABX9TyNlR1Yz2/qI2u+qnZ6TeHXL",
      "include_colab_link": true
    },
    "kernelspec": {
      "name": "python3",
      "display_name": "Python 3"
    }
  },
  "cells": [
    {
      "cell_type": "markdown",
      "metadata": {
        "id": "view-in-github",
        "colab_type": "text"
      },
      "source": [
        "<a href=\"https://colab.research.google.com/github/shijinbabupython/python/blob/master/count.ipynb\" target=\"_parent\"><img src=\"https://colab.research.google.com/assets/colab-badge.svg\" alt=\"Open In Colab\"/></a>"
      ]
    },
    {
      "cell_type": "code",
      "metadata": {
        "id": "pN4X324XhqJG"
      },
      "source": [
        " \n",
        "def CountLetters(str,letter):\n",
        "    count=0\n",
        "    index=0\n",
        "    while index<len(str):\n",
        "     if letter==str[index]:\n",
        "       count=count+1\n",
        "       index=index+1\n",
        "    return count"
      ],
      "execution_count": null,
      "outputs": []
    },
    {
      "cell_type": "markdown",
      "metadata": {
        "id": "xaitdjmsmXMh"
      },
      "source": [
        ""
      ]
    }
  ]
}